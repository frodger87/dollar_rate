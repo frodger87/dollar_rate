{
 "cells": [
  {
   "cell_type": "code",
   "execution_count": 1,
   "metadata": {},
   "outputs": [
    {
     "name": "stdout",
     "output_type": "stream",
     "text": [
      "Сейчас курс 1 доллар =  69.43\n",
      "Сейчас курс 1 доллар =  69.43\n"
     ]
    },
    {
     "ename": "KeyboardInterrupt",
     "evalue": "",
     "output_type": "error",
     "traceback": [
      "\u001b[0;31m---------------------------------------------------------------------------\u001b[0m",
      "\u001b[0;31mKeyboardInterrupt\u001b[0m                         Traceback (most recent call last)",
      "\u001b[0;32m<ipython-input-1-e445800ae4aa>\u001b[0m in \u001b[0;36m<module>\u001b[0;34m\u001b[0m\n\u001b[1;32m     60\u001b[0m \u001b[0;31m#создаем обьект и вызываем метод\u001b[0m\u001b[0;34m\u001b[0m\u001b[0;34m\u001b[0m\u001b[0;34m\u001b[0m\u001b[0m\n\u001b[1;32m     61\u001b[0m \u001b[0mcurrency\u001b[0m \u001b[0;34m=\u001b[0m \u001b[0mCurrency\u001b[0m\u001b[0;34m(\u001b[0m\u001b[0;34m)\u001b[0m\u001b[0;34m\u001b[0m\u001b[0;34m\u001b[0m\u001b[0m\n\u001b[0;32m---> 62\u001b[0;31m \u001b[0mcurrency\u001b[0m\u001b[0;34m.\u001b[0m\u001b[0mcheck_currency\u001b[0m\u001b[0;34m(\u001b[0m\u001b[0;34m)\u001b[0m\u001b[0;34m\u001b[0m\u001b[0;34m\u001b[0m\u001b[0m\n\u001b[0m",
      "\u001b[0;32m<ipython-input-1-e445800ae4aa>\u001b[0m in \u001b[0;36mcheck_currency\u001b[0;34m(self)\u001b[0m\n\u001b[1;32m     38\u001b[0m         \u001b[0mprint\u001b[0m\u001b[0;34m(\u001b[0m\u001b[0;34m'Сейчас курс 1 доллар =  '\u001b[0m \u001b[0;34m+\u001b[0m \u001b[0mstr\u001b[0m\u001b[0;34m(\u001b[0m\u001b[0mcurrency\u001b[0m\u001b[0;34m)\u001b[0m\u001b[0;34m)\u001b[0m\u001b[0;34m\u001b[0m\u001b[0;34m\u001b[0m\u001b[0m\n\u001b[1;32m     39\u001b[0m         \u001b[0mtime\u001b[0m\u001b[0;34m.\u001b[0m\u001b[0msleep\u001b[0m\u001b[0;34m(\u001b[0m\u001b[0;36m3\u001b[0m\u001b[0;34m)\u001b[0m\u001b[0;34m\u001b[0m\u001b[0;34m\u001b[0m\u001b[0m\n\u001b[0;32m---> 40\u001b[0;31m         \u001b[0mself\u001b[0m\u001b[0;34m.\u001b[0m\u001b[0mcheck_currency\u001b[0m\u001b[0;34m(\u001b[0m\u001b[0;34m)\u001b[0m\u001b[0;34m\u001b[0m\u001b[0;34m\u001b[0m\u001b[0m\n\u001b[0m\u001b[1;32m     41\u001b[0m \u001b[0;34m\u001b[0m\u001b[0m\n\u001b[1;32m     42\u001b[0m     \u001b[0;31m#отправляем email через SMTP\u001b[0m\u001b[0;34m\u001b[0m\u001b[0;34m\u001b[0m\u001b[0;34m\u001b[0m\u001b[0m\n",
      "\u001b[0;32m<ipython-input-1-e445800ae4aa>\u001b[0m in \u001b[0;36mcheck_currency\u001b[0;34m(self)\u001b[0m\n\u001b[1;32m     37\u001b[0m             \u001b[0mself\u001b[0m\u001b[0;34m.\u001b[0m\u001b[0msend_mail\u001b[0m\u001b[0;34m(\u001b[0m\u001b[0;34m)\u001b[0m\u001b[0;34m\u001b[0m\u001b[0;34m\u001b[0m\u001b[0m\n\u001b[1;32m     38\u001b[0m         \u001b[0mprint\u001b[0m\u001b[0;34m(\u001b[0m\u001b[0;34m'Сейчас курс 1 доллар =  '\u001b[0m \u001b[0;34m+\u001b[0m \u001b[0mstr\u001b[0m\u001b[0;34m(\u001b[0m\u001b[0mcurrency\u001b[0m\u001b[0;34m)\u001b[0m\u001b[0;34m)\u001b[0m\u001b[0;34m\u001b[0m\u001b[0;34m\u001b[0m\u001b[0m\n\u001b[0;32m---> 39\u001b[0;31m         \u001b[0mtime\u001b[0m\u001b[0;34m.\u001b[0m\u001b[0msleep\u001b[0m\u001b[0;34m(\u001b[0m\u001b[0;36m3\u001b[0m\u001b[0;34m)\u001b[0m\u001b[0;34m\u001b[0m\u001b[0;34m\u001b[0m\u001b[0m\n\u001b[0m\u001b[1;32m     40\u001b[0m         \u001b[0mself\u001b[0m\u001b[0;34m.\u001b[0m\u001b[0mcheck_currency\u001b[0m\u001b[0;34m(\u001b[0m\u001b[0;34m)\u001b[0m\u001b[0;34m\u001b[0m\u001b[0;34m\u001b[0m\u001b[0m\n\u001b[1;32m     41\u001b[0m \u001b[0;34m\u001b[0m\u001b[0m\n",
      "\u001b[0;31mKeyboardInterrupt\u001b[0m: "
     ]
    }
   ],
   "source": [
    "import requests\n",
    "from bs4 import BeautifulSoup\n",
    "import time\n",
    "import smtplib\n",
    "\n",
    "class Currency:\n",
    "    #ссылка на страницу с которой будем парсить\n",
    "    currency_url = 'https://www.google.com/search?sxsrf=ALeKk00z4iQbIPw7txjcpJasYv7dK_NZCA%3A1585477287016&ei=p3aAXtFL3YCTvg__57L4DQ&q=%D0%BA%D1%83%D1%80%D1%81+%D0%B4%D0%BE%D0%BB%D0%BB%D0%B0%D1%80%D0%B0&oq=%D0%BA%D1%83%D1%80%D1%81+%D0%B4%D0%BE%D0%BB%D0%BB%D0%B0%D1%80%D0%B0&gs_lcp=CgZwc3ktYWIQDDIECAAQRzIECAAQRzIECAAQRzIECAAQRzIECAAQRzIECAAQRzIECAAQRzIECAAQR1AAWABgrzdoAHAEeACAAQCIAQCSAQCYAQCqAQdnd3Mtd2l6&sclient=psy-ab&ved=0ahUKEwiRu_eTu7_oAhVdwMQBHf-zDN8Q4dUDCAs'\n",
    "    #заголовки для передачи вместе с url\n",
    "    headers = {'User-Agent': 'Mozilla/5.0 (Windows NT 10.0; Win64; x64) AppleWebKit/537.36 (KHTML, like Gecko) Chrome/80.0.3987.149 Safari/537.36'}\n",
    "    current_converted_price = 0\n",
    "    #разница после которой будет отправлено сообщене на почту\n",
    "    difference = 1\n",
    "\n",
    "    def __init__(self):\n",
    "        #установка курса валюты при создании обьекта\n",
    "        self.current_converted_price = float(self.get_currency_price().replace(',','.'))\n",
    "    \n",
    "    #метод получения значения курса \n",
    "    def get_currency_price(self):\n",
    "        #парсим всю страницу\n",
    "        full_page = requests.get(self.currency_url, headers=self.headers)\n",
    "        #разбираем страницу\n",
    "        soup = BeautifulSoup(full_page.content, 'html.parser')\n",
    "        #получаем нужное значение\n",
    "        convert = soup.findAll(\"span\", {\"class\": \"DFlfde\", \"class\": \"SwHCTb\", \"data-precision\": \"2\"})\n",
    "        return convert[0].text\n",
    "    \n",
    "    #проверяем изменение курса\n",
    "    def check_currency(self):\n",
    "        currency = float(self.get_currency_price().replace(',','.'))\n",
    "        if currency >= self.current_converted_price + self.difference:\n",
    "            print('Курс вырос, Продавай доллары!')\n",
    "            self.send_mail()\n",
    "        elif currency <= self.current_converted_price - self.difference:\n",
    "            print('Курс упал, Закупай доллары!')\n",
    "            self.send_mail()\n",
    "        print('Сейчас курс 1 доллар =  ' + str(currency))\n",
    "        time.sleep(3)\n",
    "        self.check_currency()\n",
    "        \n",
    "    #отправляем email через SMTP\n",
    "    def send_mail(self):\n",
    "        server = smtplib.SMTP('smtp.gmail.com', 587)\n",
    "        server.ehlo()\n",
    "        server.starttls()\n",
    "        server.ehlo()\n",
    "\n",
    "        server.login('your email', 'your password')\n",
    "        subject = 'Currency'\n",
    "        body = 'Currency has been changed'\n",
    "        message = f'Subject: {subject}\\n{body}'\n",
    "\n",
    "        server.sendmail(\n",
    "            'python@mydomain.com',\n",
    "            'your email',\n",
    "            message\n",
    "        )\n",
    "        server.quit()\n",
    "#создаем обьект и вызываем метод        \n",
    "currency = Currency()\n",
    "currency.check_currency()"
   ]
  },
  {
   "cell_type": "code",
   "execution_count": null,
   "metadata": {},
   "outputs": [],
   "source": []
  }
 ],
 "metadata": {
  "kernelspec": {
   "display_name": "Python 3",
   "language": "python",
   "name": "python3"
  },
  "language_info": {
   "codemirror_mode": {
    "name": "ipython",
    "version": 3
   },
   "file_extension": ".py",
   "mimetype": "text/x-python",
   "name": "python",
   "nbconvert_exporter": "python",
   "pygments_lexer": "ipython3",
   "version": "3.7.3"
  }
 },
 "nbformat": 4,
 "nbformat_minor": 2
}
